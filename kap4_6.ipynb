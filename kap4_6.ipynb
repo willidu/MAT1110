{
 "cells": [
  {
   "cell_type": "code",
   "execution_count": 1,
   "metadata": {},
   "outputs": [],
   "source": [
    "import sympy as sp"
   ]
  },
  {
   "cell_type": "code",
   "execution_count": 3,
   "metadata": {},
   "outputs": [
    {
     "data": {
      "text/plain": [
       "(Matrix([\n",
       " [1, 0, 0, 0,   100/9],\n",
       " [0, 1, 0, 0,    17/9],\n",
       " [0, 0, 1, 0,   11/27],\n",
       " [0, 0, 0, 1, -134/27]]),\n",
       " (0, 1, 2, 3))"
      ]
     },
     "execution_count": 3,
     "metadata": {},
     "output_type": "execute_result"
    }
   ],
   "source": [
    "# 4.6.4\n",
    "M = sp.Matrix([\n",
    "            [1, 2, 5, 2, 7],\n",
    "            [0, 1, -7, -1, 4],\n",
    "            [-1, 3, 6, 0, -3],\n",
    "            [2, -4, 3, 3, 1]\n",
    "        ]\n",
    "    )\n",
    "Mrref = M.rref()\n",
    "Mrref\n",
    "# Alle søylene er pivotsøyler utenom den siste, som inneholder koeffisientene."
   ]
  },
  {
   "cell_type": "code",
   "execution_count": 4,
   "metadata": {},
   "outputs": [
    {
     "data": {
      "text/plain": [
       "(Matrix([\n",
       " [1, 0, 2, 0, 0],\n",
       " [0, 1, 1, 0, 0],\n",
       " [0, 0, 0, 1, 0],\n",
       " [0, 0, 0, 0, 1]]),\n",
       " (0, 1, 3, 4))"
      ]
     },
     "execution_count": 4,
     "metadata": {},
     "output_type": "execute_result"
    }
   ],
   "source": [
    "# 4.6.6\n",
    "M = sp.Matrix([\n",
    "            [1, 0, 2, -1, 0],\n",
    "            [-2, -3, -7, 3, 2],\n",
    "            [3, 4, 10, -1, 1],\n",
    "            [2, 1, 5, 2, 0]\n",
    "        ]\n",
    "    )\n",
    "Mrref = M.rref()\n",
    "Mrref\n",
    "# Dersom vi velger søyle 0, 1, 3, og 4 kan vi lage en basis i R^4."
   ]
  }
 ],
 "metadata": {
  "interpreter": {
   "hash": "485035c5b2a6f2b50dc2dc5ca51aeeb931032fbc9adc2e30c7c528d6bf8a9176"
  },
  "kernelspec": {
   "display_name": "Python 3.8.8 ('base')",
   "language": "python",
   "name": "python3"
  },
  "language_info": {
   "codemirror_mode": {
    "name": "ipython",
    "version": 3
   },
   "file_extension": ".py",
   "mimetype": "text/x-python",
   "name": "python",
   "nbconvert_exporter": "python",
   "pygments_lexer": "ipython3",
   "version": "3.8.8"
  },
  "orig_nbformat": 4
 },
 "nbformat": 4,
 "nbformat_minor": 2
}
