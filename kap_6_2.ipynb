{
 "cells": [
  {
   "cell_type": "code",
   "execution_count": 1,
   "metadata": {},
   "outputs": [],
   "source": [
    "from scipy.integrate import dblquad\n",
    "import numpy as np"
   ]
  },
  {
   "cell_type": "code",
   "execution_count": 102,
   "metadata": {},
   "outputs": [
    {
     "name": "stdout",
     "output_type": "stream",
     "text": [
      "(3.2, 8.804890820622775e-14)\n",
      "(114.75000000000003, 1.4573369870911823e-12)\n",
      "(1.4166666666666665, 4.421632190561129e-14)\n",
      "(0.16666666666666666, 2.1188850388139753e-15)\n",
      "(0.8591409142295225, 2.998310660450319e-14)\n",
      "(0.053571428571428575, 1.3848607528673525e-15)\n",
      "(-4.71238898038469, 6.912923563541902e-14)\n",
      "(1.2337005501361709, 9.722304833015709e-09)\n",
      "(0.25395896316561994, 2.819510882164033e-15)\n"
     ]
    }
   ],
   "source": [
    "# 6.2.1.a\n",
    "I = dblquad(\n",
    "    lambda y, x: x**2*y,\n",
    "    0, 2,\n",
    "    0, lambda y: y\n",
    ")\n",
    "print(I)\n",
    "\n",
    "# 6.2.1.b\n",
    "I = dblquad(\n",
    "    lambda y, x: x+2*x*y,\n",
    "    0, 3,\n",
    "    lambda y: y, lambda y: 2*y+1\n",
    ")\n",
    "print(I)\n",
    "\n",
    "# 6.2.1.c\n",
    "I = dblquad(\n",
    "    lambda x, y: y,\n",
    "    1, 2,\n",
    "    lambda x: x, lambda x: x**2\n",
    ")\n",
    "print(I)\n",
    "\n",
    "# 6.2.1.d\n",
    "I = dblquad(\n",
    "    lambda x, y: x*np.cos(y),\n",
    "    0, np.pi/2,\n",
    "    0, lambda x: np.sin(x)\n",
    ")\n",
    "print(I)\n",
    "\n",
    "# 6.2.1.e\n",
    "I = dblquad(\n",
    "    lambda y, x: np.exp(x**2),\n",
    "    0, 1,\n",
    "    0, lambda y: y\n",
    ")\n",
    "print(I)\n",
    "\n",
    "# 6.2.1.f\n",
    "I = dblquad(\n",
    "    lambda y, x: x**2*y,\n",
    "    0, 1,\n",
    "    lambda y: y**2, lambda y: np.sqrt(y)\n",
    ")\n",
    "print(I)\n",
    "\n",
    "# 6.2.1.g\n",
    "I = dblquad(\n",
    "    lambda y, x: x*np.cos(x+y),\n",
    "    0, np.pi,\n",
    "    0, lambda y: y\n",
    ")\n",
    "print(I)\n",
    "\n",
    "# 6.2.1.h\n",
    "I = dblquad(\n",
    "    lambda y, x: 1/np.sqrt(1-y**2),\n",
    "    0, np.pi/2,\n",
    "    0, lambda y: np.sin(y)\n",
    ")\n",
    "print(I)\n",
    "\n",
    "# 6.2.1.i\n",
    "I = dblquad(\n",
    "    lambda y, x: x,\n",
    "    1, np.e,\n",
    "    lambda y: (y-1)/(np.e-1), lambda y: np.log(y)\n",
    ")\n",
    "print(I)"
   ]
  }
 ],
 "metadata": {
  "language_info": {
   "name": "python"
  },
  "orig_nbformat": 4
 },
 "nbformat": 4,
 "nbformat_minor": 2
}
