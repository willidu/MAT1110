{
 "cells": [
  {
   "cell_type": "code",
   "execution_count": 12,
   "metadata": {},
   "outputs": [],
   "source": [
    "import sympy as sp"
   ]
  },
  {
   "cell_type": "code",
   "execution_count": 13,
   "metadata": {},
   "outputs": [
    {
     "name": "stdout",
     "output_type": "stream",
     "text": [
      "(Matrix([\n",
      "[1, 0, 0],\n",
      "[0, 1, 0],\n",
      "[0, 0, 1]]), (0, 1, 2))\n"
     ]
    }
   ],
   "source": [
    "# Oppgave 4.3.4\n",
    "M = sp.Matrix([[1, 2, 1], [2, 4, 3], [-1, 3, 2]])\n",
    "M_rref = M.rref()\n",
    "print(M_rref)\n",
    "# Vi observerer M_rref = I3 og dermed har systemet en entydig løsning for alle valg av b1, b2, b3."
   ]
  },
  {
   "cell_type": "code",
   "execution_count": 14,
   "metadata": {},
   "outputs": [
    {
     "name": "stdout",
     "output_type": "stream",
     "text": [
      "(Matrix([\n",
      "[1, 0, 0,  7/2,  1/2],\n",
      "[0, 1, 0, 15/4, 15/4],\n",
      "[0, 0, 1, -1/4, -5/4]]), (0, 1, 2))\n"
     ]
    }
   ],
   "source": [
    "# Oppgave 4.3.6\n",
    "M = sp.Matrix([[2, -1, 1, 3, -4], \n",
    "            [-1, 2, 4, 3, 2], \n",
    "            [-2, 1, 3, -4, -1]\n",
    "        ]\n",
    "    )\n",
    "M_rref = M.rref()\n",
    "print(M_rref)\n",
    "# Siden søyle 4 ikke har povitelement kan u velges fritt\n",
    "# Dette gir z=0.25u-1.25, y=-3.75u+3.75, x=-3.5u+0.5"
   ]
  }
 ],
 "metadata": {
  "interpreter": {
   "hash": "485035c5b2a6f2b50dc2dc5ca51aeeb931032fbc9adc2e30c7c528d6bf8a9176"
  },
  "kernelspec": {
   "display_name": "Python 3.8.8 ('base')",
   "language": "python",
   "name": "python3"
  },
  "language_info": {
   "codemirror_mode": {
    "name": "ipython",
    "version": 3
   },
   "file_extension": ".py",
   "mimetype": "text/x-python",
   "name": "python",
   "nbconvert_exporter": "python",
   "pygments_lexer": "ipython3",
   "version": "3.8.8"
  },
  "orig_nbformat": 4
 },
 "nbformat": 4,
 "nbformat_minor": 2
}
