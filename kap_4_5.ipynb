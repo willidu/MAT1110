{
 "cells": [
  {
   "cell_type": "code",
   "execution_count": 1,
   "metadata": {},
   "outputs": [],
   "source": [
    "import sympy as sp"
   ]
  },
  {
   "cell_type": "code",
   "execution_count": 2,
   "metadata": {},
   "outputs": [
    {
     "data": {
      "text/latex": [
       "$\\displaystyle \\left[\\begin{matrix}\\frac{1}{11} & \\frac{2}{11} & - \\frac{2}{11} & - \\frac{3}{11}\\\\- \\frac{4}{11} & \\frac{3}{11} & \\frac{8}{11} & \\frac{1}{11}\\\\\\frac{2}{11} & \\frac{5}{44} & \\frac{17}{44} & \\frac{9}{44}\\\\\\frac{4}{11} & - \\frac{1}{44} & - \\frac{21}{44} & \\frac{7}{44}\\end{matrix}\\right]$"
      ],
      "text/plain": [
       "Matrix([\n",
       "[ 1/11,  2/11,  -2/11, -3/11],\n",
       "[-4/11,  3/11,   8/11,  1/11],\n",
       "[ 2/11,  5/44,  17/44,  9/44],\n",
       "[ 4/11, -1/44, -21/44,  7/44]])"
      ]
     },
     "execution_count": 2,
     "metadata": {},
     "output_type": "execute_result"
    }
   ],
   "source": [
    "# 4.5.3.a\n",
    "M = sp.Matrix([\n",
    "            [1, -2, 3, -1], \n",
    "            [2, 3, -1, 3], \n",
    "            [0, -1, 2, -2], \n",
    "            [-2, 2, -1, 3]\n",
    "        ]\n",
    "    )\n",
    "M.inv()"
   ]
  },
  {
   "cell_type": "code",
   "execution_count": 35,
   "metadata": {},
   "outputs": [
    {
     "data": {
      "text/latex": [
       "$\\displaystyle \\left[\\begin{matrix}- \\frac{5}{3}\\\\- \\frac{4}{3}\\\\\\frac{1}{3}\\end{matrix}\\right]$"
      ],
      "text/plain": [
       "Matrix([\n",
       "[-5/3],\n",
       "[-4/3],\n",
       "[ 1/3]])"
      ]
     },
     "execution_count": 35,
     "metadata": {},
     "output_type": "execute_result"
    }
   ],
   "source": [
    "# 4.5.4.a\n",
    "A = sp.Matrix([\n",
    "            [2, -1, 3],\n",
    "            [0, -1, 2],\n",
    "            [-4, 3, 1]\n",
    "        ]\n",
    "    )\n",
    "b = sp.Matrix([-1, 2, 3])\n",
    "x1 = A.pinv_solve(b)\n",
    "x1"
   ]
  },
  {
   "cell_type": "code",
   "execution_count": 45,
   "metadata": {},
   "outputs": [
    {
     "name": "stdout",
     "output_type": "stream",
     "text": [
      "Matrix([[1, -2/3, 2/3], [0, 1/3, -1/3], [0, 2/3, 1/3]])\n",
      "Matrix([[5], [0], [3]])\n"
     ]
    },
    {
     "data": {
      "text/plain": [
       "(Matrix([\n",
       " [1, 0, 0, (-a + 2*b**2 - 11)/(a + 3)],\n",
       " [0, 1, 0,  (3*a - b**2 + 13)/(a + 3)],\n",
       " [0, 0, 1,         (b**2 - 4)/(a + 3)]]),\n",
       " (0, 1, 2))"
      ]
     },
     "execution_count": 45,
     "metadata": {},
     "output_type": "execute_result"
    }
   ],
   "source": [
    "# 4.5.6\n",
    "B = sp.Matrix([\n",
    "            [1, 2, 0],\n",
    "            [0, 1, 1],\n",
    "            [0, -2, 1]\n",
    "        ]\n",
    "    )\n",
    "A = B.inv()\n",
    "print(A)\n",
    "\n",
    "b = sp.Matrix([5, 3, 3])\n",
    "x1 = B.pinv_solve(b)\n",
    "print(x1)\n",
    "\n",
    "a = sp.Symbol('a')\n",
    "b = sp.Symbol('b')\n",
    "\n",
    "C = sp.Matrix([\n",
    "            [1, 2, 0, 5],\n",
    "            [0, 1, 1, 3],\n",
    "            [0, -2, a+1, b**2-10]\n",
    "        ]\n",
    "    )\n",
    "C.rref()"
   ]
  }
 ],
 "metadata": {
  "interpreter": {
   "hash": "b3ba2566441a7c06988d0923437866b63cedc61552a5af99d1f4fb67d367b25f"
  },
  "kernelspec": {
   "display_name": "Python 3.9.7 ('base')",
   "language": "python",
   "name": "python3"
  },
  "language_info": {
   "codemirror_mode": {
    "name": "ipython",
    "version": 3
   },
   "file_extension": ".py",
   "mimetype": "text/x-python",
   "name": "python",
   "nbconvert_exporter": "python",
   "pygments_lexer": "ipython3",
   "version": "3.9.7"
  },
  "orig_nbformat": 4
 },
 "nbformat": 4,
 "nbformat_minor": 2
}
