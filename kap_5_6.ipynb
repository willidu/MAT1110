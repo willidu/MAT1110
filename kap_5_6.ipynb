{
 "cells": [
  {
   "cell_type": "code",
   "execution_count": 81,
   "metadata": {},
   "outputs": [],
   "source": [
    "import numpy as np"
   ]
  },
  {
   "cell_type": "code",
   "execution_count": 82,
   "metadata": {},
   "outputs": [
    {
     "name": "stdout",
     "output_type": "stream",
     "text": [
      "Nullpunkt: x = 0.0\n",
      "Nullpunkt: x = -1.0\n",
      "Nullpunkt: x = 1.0\n"
     ]
    }
   ],
   "source": [
    "# 5.6.1\n",
    "\n",
    "def f(x):\n",
    "    return x**3 - x\n",
    "\n",
    "def df(x):\n",
    "    return 3*x**2 - 1\n",
    "\n",
    "for x0 in (0.4, 0.5, 0.6):\n",
    "    x = x0\n",
    "    for i in range(100):\n",
    "        xn = x - f(x) / df(x)\n",
    "        x = xn\n",
    "    print(f'Nullpunkt: x = {x}')\n"
   ]
  },
  {
   "cell_type": "code",
   "execution_count": 83,
   "metadata": {},
   "outputs": [
    {
     "name": "stdout",
     "output_type": "stream",
     "text": [
      "Nullpunkt: \n",
      " \t (x0, y0) = (1.000, 1.000)\n",
      "\t (x, y)   = (0.786, 0.618)\n",
      "Nullpunkt: \n",
      " \t (x0, y0) = (0.500, 0.500)\n",
      "\t (x, y)   = (0.786, 0.618)\n"
     ]
    }
   ],
   "source": [
    "# 5.6.2\n",
    "\n",
    "for (x0, y0) in ((1, 1), (.5, .5)):\n",
    "    x, y = x0, y0\n",
    "    print(f'Nullpunkt: \\n \\t (x0, y0) = ({x:.3f}, {y:.3f})')\n",
    "\n",
    "    for i in range(100):\n",
    "        f = np.asarray([x**2 - y, x**2 + y**2 - 1])\n",
    "        df = np.linalg.inv(np.asarray([[2*x, -1], [2*x, 2*y]]))\n",
    "        xn, yn = (x, y) - np.einsum('ij, j -> i', df, f)\n",
    "        x, y = xn, yn\n",
    "\n",
    "    print(f'\\t (x, y)   = ({x:.3f}, {y:.3f})')\n"
   ]
  },
  {
   "cell_type": "code",
   "execution_count": 86,
   "metadata": {},
   "outputs": [
    {
     "name": "stdout",
     "output_type": "stream",
     "text": [
      "Nullpunkt: x = -0.453\n"
     ]
    }
   ],
   "source": [
    "# 5.6.9\n",
    "\n",
    "x = -0.5\n",
    "for i in range(100):\n",
    "    x = (x*(3*x**2 + 3) - (x**3 + 3*x + 1)) / (3*x**2 + 3 - 1)  # Newtons metode for g(x) = f(x) - x\n",
    "\n",
    "print(f'Nullpunkt: x = {x:.3f}')\n"
   ]
  }
 ],
 "metadata": {
  "interpreter": {
   "hash": "b3ba2566441a7c06988d0923437866b63cedc61552a5af99d1f4fb67d367b25f"
  },
  "kernelspec": {
   "display_name": "Python 3.9.7 ('base')",
   "language": "python",
   "name": "python3"
  },
  "language_info": {
   "codemirror_mode": {
    "name": "ipython",
    "version": 3
   },
   "file_extension": ".py",
   "mimetype": "text/x-python",
   "name": "python",
   "nbconvert_exporter": "python",
   "pygments_lexer": "ipython3",
   "version": "3.9.7"
  },
  "orig_nbformat": 4
 },
 "nbformat": 4,
 "nbformat_minor": 2
}
