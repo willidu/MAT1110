{
 "cells": [
  {
   "cell_type": "code",
   "execution_count": 4,
   "metadata": {},
   "outputs": [],
   "source": [
    "import numpy as np\n",
    "import matplotlib.pyplot as plt"
   ]
  },
  {
   "cell_type": "code",
   "execution_count": 17,
   "metadata": {},
   "outputs": [
    {
     "name": "stdout",
     "output_type": "stream",
     "text": [
      "Fixpoint 1: \n",
      " \t(x0, y0) = -0.95, -1.98, \n",
      " \t(x, y) = 0.39, 0.50\n",
      "Fixpoint 2: \n",
      " \t(x0, y0) = 0.00, -1.99, \n",
      " \t(x, y) = 0.39, 0.50\n",
      "Fixpoint 3: \n",
      " \t(x0, y0) = 1.60, -1.90, \n",
      " \t(x, y) = 0.39, 0.50\n",
      "Fixpoint 4: \n",
      " \t(x0, y0) = -0.99, -0.96, \n",
      " \t(x, y) = 0.39, 0.50\n",
      "Fixpoint 5: \n",
      " \t(x0, y0) = 1.14, 0.81, \n",
      " \t(x, y) = 0.39, 0.50\n",
      "Fixpoint 6: \n",
      " \t(x0, y0) = 0.34, -0.73, \n",
      " \t(x, y) = 0.39, 0.50\n",
      "Fixpoint 7: \n",
      " \t(x0, y0) = 2.21, -1.03, \n",
      " \t(x, y) = 0.39, 0.50\n"
     ]
    },
    {
     "data": {
      "image/png": "[encoded data removed]",
      "text/plain": [
       "<Figure size 432x288 with 1 Axes>"
      ]
     },
     "metadata": {
      "needs_background": "light"
     },
     "output_type": "display_data"
    }
   ],
   "source": [
    "# 5.5.1\n",
    "N = 100\n",
    "t = np.linspace(0, N, N+1)\n",
    "\n",
    "def F(x, y):\n",
    "    return 0.5*np.sin(x+y), 0.5*np.cos(x-y)\n",
    "\n",
    "u = np.zeros((N+1,2))\n",
    "u[0] = 1, -1\n",
    "\n",
    "for j in range(1, 8):\n",
    "    u[0] = np.random.uniform(-2.5, 2.5, [2,])\n",
    "    \n",
    "    for i in range(N):\n",
    "        u[i+1] = F(u[i,0], u[i,1])\n",
    "\n",
    "    print(f'Fixpoint {j}: \\n \\t(x0, y0) = {u[0,0]:.2f}, {u[0,1]:.2f}, \\n \\t(x, y) = {u[-1,0]:.2f}, {u[-1,1]:.2f}')\n",
    "\n",
    "plt.plot(t, u)\n",
    "plt.legend(['x', 'y'])\n",
    "plt.show()"
   ]
  }
 ],
 "metadata": {
  "interpreter": {
   "hash": "485035c5b2a6f2b50dc2dc5ca51aeeb931032fbc9adc2e30c7c528d6bf8a9176"
  },
  "kernelspec": {
   "display_name": "Python 3.8.8 ('base')",
   "language": "python",
   "name": "python3"
  },
  "language_info": {
   "codemirror_mode": {
    "name": "ipython",
    "version": 3
   },
   "file_extension": ".py",
   "mimetype": "text/x-python",
   "name": "python",
   "nbconvert_exporter": "python",
   "pygments_lexer": "ipython3",
   "version": "3.8.8"
  },
  "orig_nbformat": 4
 },
 "nbformat": 4,
 "nbformat_minor": 2
}
