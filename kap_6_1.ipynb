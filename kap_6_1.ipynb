{
 "cells": [
  {
   "cell_type": "code",
   "execution_count": 4,
   "metadata": {},
   "outputs": [],
   "source": [
    "from scipy.integrate import dblquad\n",
    "import numpy as np"
   ]
  },
  {
   "cell_type": "code",
   "execution_count": 16,
   "metadata": {},
   "outputs": [
    {
     "name": "stdout",
     "output_type": "stream",
     "text": [
      "(8.999999999999998, 1.3308211742699053e-13)\n",
      "(3.5707963267948966, 5.700740925121809e-14)\n",
      "(1.145521218972697, 1.8911425758063978e-14)\n",
      "(0.6366197723675813, 4.4638549944785065e-14)\n",
      "(365.29497962607314, 2.825659155755165e-11)\n",
      "(3.4365636569180893, 3.8153520975004895e-14)\n",
      "(0.416368533589615, 1.8880565212665683e-11)\n"
     ]
    }
   ],
   "source": [
    "# 6.1.1.a\n",
    "I = dblquad(lambda y, x: x*y, 1, 2, 2, 4)\n",
    "print(I)\n",
    "\n",
    "# 6.1.1.b\n",
    "I = dblquad(lambda y, x: x+np.sin(y), 0, 1, 0, np.pi)\n",
    "print(I)\n",
    "\n",
    "# 6.1.1.c\n",
    "I = dblquad(lambda y, x: x**2*np.exp(y), -1, 1, 0, 1)\n",
    "print(I)\n",
    "\n",
    "# 6.1.1.d\n",
    "I = dblquad(lambda y, x: x*np.cos(x*y), 1, 2, np.pi, 2*np.pi)\n",
    "print(I)\n",
    "\n",
    "# 6.1.1.e\n",
    "I = dblquad(lambda y, x: x*y*np.exp(x**2*y), 0, 2, 1, 2)\n",
    "print(I)\n",
    "\n",
    "# 6.1.1.f\n",
    "I = dblquad(lambda y, x: np.log(x*y), 1, np.e, 1, np.e)\n",
    "print(I)\n",
    "\n",
    "# 6.1.1.g\n",
    "I = dblquad(lambda y, x: 1/(1+x**2*y), 1, np.sqrt(3), 0, 1)\n",
    "print(I)"
   ]
  }
 ],
 "metadata": {
  "interpreter": {
   "hash": "485035c5b2a6f2b50dc2dc5ca51aeeb931032fbc9adc2e30c7c528d6bf8a9176"
  },
  "kernelspec": {
   "display_name": "Python 3.8.8 ('base')",
   "language": "python",
   "name": "python3"
  },
  "language_info": {
   "codemirror_mode": {
    "name": "ipython",
    "version": 3
   },
   "file_extension": ".py",
   "mimetype": "text/x-python",
   "name": "python",
   "nbconvert_exporter": "python",
   "pygments_lexer": "ipython3",
   "version": "3.8.8"
  },
  "orig_nbformat": 4
 },
 "nbformat": 4,
 "nbformat_minor": 2
}
