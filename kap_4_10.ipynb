{
 "cells": [
  {
   "cell_type": "code",
   "execution_count": 1,
   "metadata": {},
   "outputs": [],
   "source": [
    "import sympy as sp"
   ]
  },
  {
   "cell_type": "code",
   "execution_count": 10,
   "metadata": {},
   "outputs": [
    {
     "data": {
      "text/plain": [
       "[(-1.00000000000000,\n",
       "  1,\n",
       "  [Matrix([\n",
       "   [0.316227766016838],\n",
       "   [0.948683298050514],\n",
       "   [                0]])]),\n",
       " (0.633974596215561,\n",
       "  1,\n",
       "  [Matrix([\n",
       "   [ 0.486555845592111],\n",
       "   [  0.20564269716372],\n",
       "   [-0.918009896549845]])]),\n",
       " (2.36602540378444,\n",
       "  1,\n",
       "  [Matrix([\n",
       "   [0.295013760818717],\n",
       "   [0.465340035042047],\n",
       "   [ 1.14664513193537]])])]"
      ]
     },
     "execution_count": 10,
     "metadata": {},
     "output_type": "execute_result"
    }
   ],
   "source": [
    "# 4.10.3.a\n",
    "A = sp.Matrix([\n",
    "    [2, -1, 0.5],\n",
    "    [3, -2, 1],\n",
    "    [3, -1, 2]\n",
    "])\n",
    "\n",
    "A.eigenvects()"
   ]
  },
  {
   "cell_type": "code",
   "execution_count": 16,
   "metadata": {},
   "outputs": [
    {
     "data": {
      "text/plain": [
       "[(6.88913812896544 - 1.44332508691492*I,\n",
       "  1,\n",
       "  [Matrix([\n",
       "   [0.112952741955942 + 0.504814067247399*I],\n",
       "   [0.81775954701702 + 0.0482693609443004*I],\n",
       "   [0.095374854614691 + 0.228577043373882*I]])]),\n",
       " (6.88913812896544 + 1.44332508691492*I,\n",
       "  1,\n",
       "  [Matrix([\n",
       "   [ 0.564845831814385 + 0.126384919964111*I],\n",
       "   [0.0540094840906449 + 0.915006339022267*I],\n",
       "   [  0.255759097408271 + 0.10671669548109*I]])]),\n",
       " (-7.67827625793088,\n",
       "  1,\n",
       "  [Matrix([\n",
       "   [-0.766628311551045 - 8.06336438582902e-66*I],\n",
       "   [-0.125331966259652 - 8.74427069408209e-65*I],\n",
       "   [ 0.746977337284598 + 2.79588636870682e-66*I]])])]"
      ]
     },
     "execution_count": 16,
     "metadata": {},
     "output_type": "execute_result"
    }
   ],
   "source": [
    "# 4.10.3.b\n",
    "B = sp.Matrix([\n",
    "    [2, 0.4, 10],\n",
    "    [-2.4, 7.3, 0.05],\n",
    "    [4.2, 1, -3.2]\n",
    "])\n",
    "\n",
    "B.eigenvects()\n",
    "# Observerer små feil i svar, kanskje matlab er bedre til dette formålet."
   ]
  }
 ],
 "metadata": {
  "interpreter": {
   "hash": "485035c5b2a6f2b50dc2dc5ca51aeeb931032fbc9adc2e30c7c528d6bf8a9176"
  },
  "kernelspec": {
   "display_name": "Python 3.8.8 ('base')",
   "language": "python",
   "name": "python3"
  },
  "language_info": {
   "codemirror_mode": {
    "name": "ipython",
    "version": 3
   },
   "file_extension": ".py",
   "mimetype": "text/x-python",
   "name": "python",
   "nbconvert_exporter": "python",
   "pygments_lexer": "ipython3",
   "version": "3.8.8"
  },
  "orig_nbformat": 4
 },
 "nbformat": 4,
 "nbformat_minor": 2
}
