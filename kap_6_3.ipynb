{
 "cells": [
  {
   "cell_type": "code",
   "execution_count": 1,
   "metadata": {},
   "outputs": [],
   "source": [
    "from scipy.integrate import dblquad\n",
    "import numpy as np"
   ]
  },
  {
   "cell_type": "code",
   "execution_count": 6,
   "metadata": {},
   "outputs": [
    {
     "name": "stdout",
     "output_type": "stream",
     "text": [
      "(16.2, 2.0595562577271835e-13)\n"
     ]
    }
   ],
   "source": [
    "# 6.3.1.a\n",
    "I = dblquad(\n",
    "    lambda r, theta: r**4*np.cos(theta)*(np.sin(theta))**2,\n",
    "    0, np.pi/2,\n",
    "    0, 3\n",
    ")\n",
    "print(I)"
   ]
  },
  {
   "cell_type": "code",
   "execution_count": 7,
   "metadata": {},
   "outputs": [
    {
     "name": "stdout",
     "output_type": "stream",
     "text": [
      "(122.71846303085131, 1.7347234759768075e-12)\n"
     ]
    }
   ],
   "source": [
    "# 6.3.1.b\n",
    "I = dblquad(\n",
    "    lambda r, theta: r**3,\n",
    "    0, np.pi/4,\n",
    "    0, 5\n",
    ")\n",
    "print(I)"
   ]
  },
  {
   "cell_type": "code",
   "execution_count": 8,
   "metadata": {},
   "outputs": [
    {
     "name": "stdout",
     "output_type": "stream",
     "text": [
      "(27916530.990480267, 0.00039073006919949574)\n"
     ]
    }
   ],
   "source": [
    "# 6.3.1.c\n",
    "I = dblquad(\n",
    "    lambda r, theta: r*np.exp(r**2),\n",
    "    0, 2*np.pi,\n",
    "    1, 4\n",
    ")\n",
    "print(I)"
   ]
  },
  {
   "cell_type": "code",
   "execution_count": 9,
   "metadata": {},
   "outputs": [
    {
     "name": "stdout",
     "output_type": "stream",
     "text": [
      "(0.0625, 1.387770708121804e-15)\n"
     ]
    }
   ],
   "source": [
    "# 6.3.1.d\n",
    "I = dblquad(\n",
    "    lambda r, theta: r**3*np.cos(theta)*np.sin(theta),\n",
    "    0, np.pi/4,\n",
    "    0, 1\n",
    ")\n",
    "print(I)"
   ]
  },
  {
   "cell_type": "code",
   "execution_count": 11,
   "metadata": {},
   "outputs": [
    {
     "name": "stdout",
     "output_type": "stream",
     "text": [
      "(2.8596198164244757e-17, 1.3823094066665368e-15)\n"
     ]
    }
   ],
   "source": [
    "# 6.3.1.e\n",
    "I = dblquad(\n",
    "    lambda r, theta: r**3*((np.cos(theta))**2-(np.sin(theta))**2),\n",
    "    7*np.pi/6, 4*np.pi/3,\n",
    "    0, 1\n",
    ")\n",
    "print(I)"
   ]
  },
  {
   "cell_type": "code",
   "execution_count": 12,
   "metadata": {},
   "outputs": [
    {
     "name": "stdout",
     "output_type": "stream",
     "text": [
      "(0.9573622037878232, 1.0628855615511226e-14)\n"
     ]
    }
   ],
   "source": [
    "# 6.3.1.f\n",
    "I = dblquad(\n",
    "    lambda r, theta: np.sqrt(2-r**2)*r,\n",
    "    0, np.pi/2,\n",
    "    0, 1\n",
    ")\n",
    "print(I)"
   ]
  }
 ],
 "metadata": {
  "interpreter": {
   "hash": "485035c5b2a6f2b50dc2dc5ca51aeeb931032fbc9adc2e30c7c528d6bf8a9176"
  },
  "kernelspec": {
   "display_name": "Python 3.8.8 ('base')",
   "language": "python",
   "name": "python3"
  },
  "language_info": {
   "codemirror_mode": {
    "name": "ipython",
    "version": 3
   },
   "file_extension": ".py",
   "mimetype": "text/x-python",
   "name": "python",
   "nbconvert_exporter": "python",
   "pygments_lexer": "ipython3",
   "version": "3.8.8"
  },
  "orig_nbformat": 4
 },
 "nbformat": 4,
 "nbformat_minor": 2
}
